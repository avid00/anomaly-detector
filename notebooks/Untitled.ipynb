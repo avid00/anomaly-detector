{
 "cells": [
  {
   "cell_type": "markdown",
   "id": "033d6ad2-4efb-4271-98ec-9388c91ab3e2",
   "metadata": {},
   "source": [
    "# Anomoly Detection"
   ]
  },
  {
   "cell_type": "code",
   "execution_count": null,
   "id": "f3b9661a-39ad-423d-8a08-de6d81b047cc",
   "metadata": {},
   "outputs": [],
   "source": []
  }
 ],
 "metadata": {
  "kernelspec": {
   "display_name": "Python 3 (ipykernel)",
   "language": "python",
   "name": "python3"
  },
  "language_info": {
   "codemirror_mode": {
    "name": "ipython",
    "version": 3
   },
   "file_extension": ".py",
   "mimetype": "text/x-python",
   "name": "python",
   "nbconvert_exporter": "python",
   "pygments_lexer": "ipython3",
   "version": "3.12.0"
  }
 },
 "nbformat": 4,
 "nbformat_minor": 5
}
